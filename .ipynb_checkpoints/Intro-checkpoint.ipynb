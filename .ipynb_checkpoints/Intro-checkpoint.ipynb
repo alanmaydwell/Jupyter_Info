{
 "cells": [
  {
   "cell_type": "markdown",
   "metadata": {},
   "source": [
    "# Jupyter Notebook Basics\n",
    "\n",
    "Jupyter notebooks are easily updatable web-pages that contain executable code, the results of executing the code and formatted text. They are widly used in data science and scientific computing. Some examples can be found here: http://nb.bianp.net/sort/views/ \n",
    "\n",
    "Jupyter seems well suited for automating some simple tasks and might useful for some test purposes.\n",
    "\n",
    "> Jupyter had a predecessor called Ipython which only supports the Python language whereas Jupyter supports a number of different languages (https://github.com/jupyter/jupyter/wiki/Jupyter-kernels). Nevertheless, it still fully supports IPython features, so IPython documentation and examples can be used with Jupyter Notebook\n"
   ]
  },
  {
   "cell_type": "markdown",
   "metadata": {},
   "source": [
    "<img src=\"images/JupyterScreen.png\", width=800, align=\"left\" />"
   ]
  },
  {
   "cell_type": "markdown",
   "metadata": {},
   "source": [
    "## Running the Application\n",
    "\n",
    "Jupyter Notebook is a web-based application that is accessed via a browser. Here are some ways of running it.\n"
   ]
  },
  {
   "cell_type": "markdown",
   "metadata": {},
   "source": [
    "### Jump Server 140\n",
    "The required software is already installed on jump server 140. Here's how to open it and shut it down.\n",
    "#### Launching\n",
    "1. Go to **E:\\TEST\\Automation\\Jupyter_Notebooks**\n",
    "2. Double-click **start_jupyter_notebook.bat**\n",
    "3. A console window will open and run the notebook server. This instance should be personal to you and not affect anyone else. By default the server runs on port 8888, but if this is unavailable it will open on the first available port between 8888 and 8938.\n",
    "4. Your defult browser will open with the notebook home page *(there are supposed to be command line options which can be used to specifiy a particular browser but they don't seem to work, so change your default browser setting if you want to use a different one)*\n",
    "5. Be aware that the URL used to access the page has a token on the end which needs to be included (e.g. ` http://localhost:8888/?token=95e7b661e4afae463d6a6b97b0a9d98c074faf9178a2e7791`). **If you close the browser and want to re-access the page, the token will be required** (it's displayed in the console window and can be found from command line **`jupyter notebook list`** if in path). Alternatively, shut-down and re-start the notebook server.\n",
    "\n",
    "#### Shutting Down\n",
    "The server can be closed by typing CTRL-C in the server's console window. Alternatively, simply closing the console window might do the same job (but possiby less tidily).\n",
    "\n",
    "#### Widget Usage\n",
    "To enable the Widget features of a Jupyter notebook to work on the jump server it may be necessary to run ONE of the follwing (equivalent ways of doing the same thing):\n",
    "\n",
    "- Type following in command line:  \n",
    "> D:  \n",
    "cd \"D:\\Phython 2.7\\Scripts\"  \n",
    "jupyter nbextension enable --py widgetsnbextension\n",
    "\n",
    "*or*\n",
    "\n",
    "- Run **one_time_widget_enable.bat** which can be found in the folder from step 1 above.\n",
    "\n",
    "*or*\n",
    "\n",
    "- Execute **!jupyter nbextension enable --py widgetsnbextension** from a Jupyter Notebook code cell\n",
    "\n",
    "\n",
    "\n",
    "** This should only need to be done once ever**. Presumably it updates some sort of user setting.\n",
    "\n",
    "\n",
    "\n",
    "### Free Cloud Based Version\n",
    "There's a free cloud-based version of Jupyter notebook which can be accessed using the followig link:\n",
    "\n",
    "https://try.jupyter.org/\n",
    "\n",
    "- The above is a free cloud-based instance of Jupyter with several languages available.\n",
    "- It works just by clicking the link\n",
    "- Even works from DOM1 PC\n",
    "- Seems useful for trying things out\n",
    "- Any Created files might not be kept long or reliably but there is the option to dowload and upload ipynb files to/from your own PC.\n",
    "- *Take care not to record anything confidential there!*\n",
    "\n",
    "### Running On Own PC (not DOM1!)\n",
    "Jupyter notebook can be installed on PCs running Windows, Mac OS or Linux. Installation instructions can be found here: \n",
    "http://jupyter.org/install.html\n",
    "\n",
    "\n",
    "*(It also seems possible to install it on Chrome OS as long as the device is in Developer Mode https://wsvincent.com/install-python3-chromebook/)*\n",
    "\n",
    "###  New Cloud Technology\n",
    "The new cloud-based servcies that we're in the process of adopting may give us further options:\n",
    "- Jupyter is available in Docker containers https://hub.docker.com/r/jupyter/\n",
    "- Jupyter can be run using AWS EC2 http://docs.aws.amazon.com/mxnet/latest/dg/setup-jupyter.html"
   ]
  },
  {
   "cell_type": "markdown",
   "metadata": {},
   "source": [
    "# Using a Notebook\n",
    "Items are recorded in \"cells\" which are vertically stacked rectangular multi-line text fields within the page. Various menu items, toolbar options and keyboard shotcuts can be used to update or execute the contents of the cells."
   ]
  },
  {
   "cell_type": "markdown",
   "metadata": {},
   "source": [
    "<img src=\"images/jupyter_cells.png\",align=\"left\" />"
   ]
  },
  {
   "cell_type": "markdown",
   "metadata": {},
   "source": [
    "Two fundamental features are the Mode and Cell Type.\n",
    "\n",
    "## Notebook Modes\n",
    "A Jupyter notebook has two different modes:\n",
    "\n",
    "### 1 Edit Mode\n",
    "- This is used to enter or amend the contents of a cell.\n",
    "- When in Edit Mode the cell border is green.\n",
    "- Edit Mode can be entered by either double-clicking the cell or pressing the Return key.\n",
    "\n",
    "### 2 Command Mode\n",
    "- In Command Mode the following tasks can be performed:\n",
    "    - execute the code in one or more code cells (shift-run or use the Cell menu or the Run Cell icon)\n",
    "    - display the rendered contents of a markdown cell\n",
    "    - add or delete cells\n",
    "    - change cell order\n",
    "    - change cell type between code and markdown\n",
    "- When in Command Mode the cell border is blue.\n",
    "- Command Mode can be entered by clicking outside a cell or by pressing the escape key."
   ]
  },
  {
   "cell_type": "markdown",
   "metadata": {},
   "source": [
    "## Cell Types\n",
    "\n",
    "There are two main cell types:\n",
    "\n",
    "- Code\n",
    "- Markdown\n",
    "\n",
    ">*There are also \"Raw NB Convert\" and \"Heading\" types but they are not covered here (and \"Heading\" is obsolete).*\n",
    "\n",
    "Cell Types can be set by using:\n",
    "1. Menu at top of screen: ** Cell > Cell Type **\n",
    "2. Drop-down list in the tool bar\n",
    "3. Keyboard shortcuts (M - markdown, Y - code). Must be in command mode (see below) for these to work."
   ]
  },
  {
   "cell_type": "markdown",
   "metadata": {},
   "source": [
    "### Code Cells\n",
    "- Code cells can be idenfied by having **In [ ]:** to their left\n",
    "- They can contain executable code, command-line commands, or both\n",
    "- Later code cells inherit items defined in earlier ones.\n",
    "- Run order can be observed from the number between the cell's square brackets, e.g. ** In [4] **\n",
    "- Whilst code is being executed, an asterisk is displayed between the cell's square brackets,** `In [*]` **\n",
    "- Code in the cell can be executed using shift-enter or from the options in the Cell menu.\n",
    "- Results output from the execution is displayed immediately below the cell. This can be text or graphics.\n",
    "- The current Redcentric installation is set to run Python 2.7 code but several other languages can be supported (e.g. Ruby and Javascript). Full list here: https://github.com/jupyter/jupyter/wiki/Jupyter-kernels)\n",
    "- OS level commands can also be executed (! prefex), including some Unix-style ones on Windows (e.g. ls).\n",
    "- \"Magic\" commands can be executed. They have % or %% prefix. **%lsmagic** gives a list. Some modify the behaviour of a cell.\n",
    "\n",
    "The four cells below are code cells."
   ]
  },
  {
   "cell_type": "code",
   "execution_count": 1,
   "metadata": {},
   "outputs": [
    {
     "name": "stdout",
     "output_type": "stream",
     "text": [
      "Hello Human!\n"
     ]
    }
   ],
   "source": [
    "#Python 2, no need for brackets with print\n",
    "print \"Hello Human!\""
   ]
  },
  {
   "cell_type": "code",
   "execution_count": 2,
   "metadata": {
    "collapsed": true
   },
   "outputs": [],
   "source": [
    "def square(x):\n",
    "    return x*x\n",
    "\n",
    "values = [0, 1, 2, 4]"
   ]
  },
  {
   "cell_type": "code",
   "execution_count": 3,
   "metadata": {},
   "outputs": [
    {
     "name": "stdout",
     "output_type": "stream",
     "text": [
      "0\n",
      "1\n",
      "4\n",
      "16\n"
     ]
    }
   ],
   "source": [
    "#Cells inherit items from previously executed cells, so list and function from the cell above are available here.\n",
    "for v in values:\n",
    "    print square(v)"
   ]
  },
  {
   "cell_type": "code",
   "execution_count": 4,
   "metadata": {},
   "outputs": [
    {
     "name": "stdout",
     "output_type": "stream",
     "text": [
      "/z/Automation/Jupyter_Notebooks/Getting_Started\n",
      "Intro.html\n",
      "Intro.ipynb\n",
      "Markdown.ipynb\n",
      "images\n",
      "[0, 1, 2, 4]\n"
     ]
    }
   ],
   "source": [
    "#Command line\n",
    "!pwd\n",
    "!ls\n",
    "#Can launch Windows applications\n",
    "!explorer\n",
    "#Can pass any already existing Python variables as arguments (need $ prefix to extract value)\n",
    "!echo $values"
   ]
  },
  {
   "cell_type": "markdown",
   "metadata": {},
   "source": [
    "### Markdown Cells"
   ]
  },
  {
   "cell_type": "markdown",
   "metadata": {},
   "source": [
    "Markdown cells are used to display information.\n",
    "\n",
    "This present cell and most of the cells above are markdown cells.\n",
    "\n",
    "There isn't a GUI for formatting markdown cells but fairly easy embedded formatting codes can be used. Here are some examples:\n",
    "\n",
    "*itallic*\n",
    "\n",
    "** bold **\n",
    "\n",
    "1. List item\n",
    "2. Another list item\n",
    "3. Yet another list item\n",
    "\n",
    "Further details can be found in [Markdown](Markdown.ipynb)\n",
    "\n"
   ]
  },
  {
   "cell_type": "code",
   "execution_count": null,
   "metadata": {
    "collapsed": true
   },
   "outputs": [],
   "source": []
  }
 ],
 "metadata": {
  "kernelspec": {
   "display_name": "Python 2",
   "language": "python",
   "name": "python2"
  },
  "language_info": {
   "codemirror_mode": {
    "name": "ipython",
    "version": 2
   },
   "file_extension": ".py",
   "mimetype": "text/x-python",
   "name": "python",
   "nbconvert_exporter": "python",
   "pygments_lexer": "ipython2",
   "version": "2.7"
  }
 },
 "nbformat": 4,
 "nbformat_minor": 2
}
