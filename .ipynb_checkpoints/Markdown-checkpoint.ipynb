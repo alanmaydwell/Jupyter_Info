{
 "cells": [
  {
   "cell_type": "markdown",
   "metadata": {},
   "source": [
    "Esc - enter command mode\n",
    "\n",
    "Enter - enter edit mode\n",
    "\n",
    "Y - to code\n",
    "\n",
    "M - to markdown\n",
    "\n",
    "P - Comand pallette"
   ]
  },
  {
   "cell_type": "markdown",
   "metadata": {},
   "source": [
    "# Some Markdown Examples\n",
    "\n",
    "Here are some examples of Jupyter markdown (similar to Github's)\n",
    "\n",
    "More Info\n",
    "\n",
    "+ https://help.github.com/articles/basic-writing-and-formatting-syntax/\n",
    "+ http://jupyter-notebook.readthedocs.io/en/latest/examples/Notebook/Working%20With%20Markdown%20Cells.html\n",
    "+ https://guides.github.com/features/mastering-markdown\n",
    "\n",
    "It's also possible to use html tags\n",
    "\n",
    "*Note to see the markdown within a cell it's necessary to set the cell to edit mode which can be achived by either double-clicking on it with the mouse or pressing the Enter key.*"
   ]
  },
  {
   "cell_type": "markdown",
   "metadata": {},
   "source": [
    "## Bold and Italic"
   ]
  },
  {
   "cell_type": "markdown",
   "metadata": {},
   "source": [
    "*this is in italic*  and _so is this_\n",
    "\n",
    "**this is in bold**  and __so is this__\n",
    "\n",
    "***this is bold and italic***  and ___so is this___"
   ]
  },
  {
   "cell_type": "markdown",
   "metadata": {},
   "source": [
    "## Quoted Text"
   ]
  },
  {
   "cell_type": "markdown",
   "metadata": {},
   "source": [
    "Here is some quoted text\n",
    "> Far out in the uncharted backwaters of the unfashionable end of the Western Spiral arm of the Galaxy lies a small unregarded yellow sun.\n",
    "\n",
    "End of the quote\n",
    "\n"
   ]
  },
  {
   "cell_type": "markdown",
   "metadata": {},
   "source": [
    "## Leaving text unchanged"
   ]
  },
  {
   "cell_type": "markdown",
   "metadata": {},
   "source": [
    "```If you want some text to show up exactly as you write it, without Markdown doing anything to it, just indent every line by at least 4 spaces (or 1 tab). As an alternative to indenting, you can make a code block use 3 or more tildes (~) or backticks (`) on a line before and after the text```\n",
    "\n"
   ]
  },
  {
   "cell_type": "markdown",
   "metadata": {},
   "source": [
    "Code with syntax highlighting (for display, not execution)\n",
    "```python\n",
    "def square(x):\n",
    "    \"\"\"Returns square\"\"\"\n",
    "    return x*x\n",
    "\n",
    "square(2)\n",
    "```"
   ]
  },
  {
   "cell_type": "markdown",
   "metadata": {},
   "source": [
    "## Lists\n",
    "(easier than Word and Outlook!)"
   ]
  },
  {
   "cell_type": "markdown",
   "metadata": {},
   "source": [
    "* an asterisk starts an unordered list\n",
    "* and this is another item in the list\n",
    "+ or you can also use the + character\n",
    "- or the - character\n",
    "\n",
    "To start an ordered list, write this:\n",
    "\n",
    "1. this starts a list *with* numbers\n",
    "+  this will show as number \"2\"\n",
    "*  this will show as number \"3.\"\n",
    "9. any number, +, -, or * will keep the list going.\n",
    "    * just indent by 4 spaces (or tab) to make a sub-list\n",
    "        1. keep indenting for more sub lists\n",
    "    * here i'm back to the second level"
   ]
  },
  {
   "cell_type": "markdown",
   "metadata": {},
   "source": [
    "## Hyperlinks"
   ]
  },
  {
   "cell_type": "markdown",
   "metadata": {},
   "source": [
    "Pasted full links simply work:\n",
    "http://jupyter.org/\n",
    "\n",
    "\n",
    "It's also possible to give the link your own text instead:\n",
    "[Project Jupyter](http://jupyter.org/)"
   ]
  },
  {
   "cell_type": "markdown",
   "metadata": {},
   "source": [
    "## Table"
   ]
  },
  {
   "cell_type": "markdown",
   "metadata": {},
   "source": [
    "  First Heading | Second Heading\n",
    "  ------------- | --------------\n",
    "  Cell A1  | Cell A2\n",
    "  Cell B1  | Cell B2"
   ]
  },
  {
   "cell_type": "markdown",
   "metadata": {},
   "source": []
  },
  {
   "cell_type": "markdown",
   "metadata": {},
   "source": []
  },
  {
   "cell_type": "markdown",
   "metadata": {},
   "source": [
    "## Images"
   ]
  },
  {
   "cell_type": "markdown",
   "metadata": {},
   "source": [
    "There is more than one way to display an image. Here's one:\n",
    "\n",
    "(Note path can be to local file or website)\n",
    "\n",
    "![LAA](https://assets.publishing.service.gov.uk/government/uploads/system/uploads/feature/image/55822/s630_Contract_red-960x640.jpg)"
   ]
  },
  {
   "cell_type": "markdown",
   "metadata": {},
   "source": [
    "Can resize image if HTML used instead of markdown\n",
    "<img src=\"//assets.publishing.service.gov.uk/government/uploads/system/uploads/feature/image/55822/s630_Contract_red-960x640.jpg\" style=\"width: 200px;\"/>"
   ]
  },
  {
   "cell_type": "markdown",
   "metadata": {},
   "source": [
    "## Horizonatal Lines"
   ]
  },
  {
   "cell_type": "markdown",
   "metadata": {},
   "source": [
    "Three or more...\n",
    "\n",
    "---\n",
    "\n",
    "Hyphens\n",
    "\n",
    "***\n",
    "\n",
    "Asterisks\n",
    "\n",
    "___\n",
    "\n",
    "Underscores"
   ]
  },
  {
   "cell_type": "markdown",
   "metadata": {},
   "source": [
    "## Local Files"
   ]
  },
  {
   "cell_type": "markdown",
   "metadata": {},
   "source": [
    "If you have local files in your Notebook directory, you can refer to these files in Markdown cells directly:\n",
    "\n",
    "[subdirectory/]<filename>\n",
    "\n",
    "For example, in the images folder, we have the Python logo:\n",
    "\n",
    "<img src=\"images/py_logo.png\" />\n",
    "\n"
   ]
  },
  {
   "cell_type": "markdown",
   "metadata": {},
   "source": [
    "## HTML\n",
    "As alternative to above, Markdown cells can also render HTML"
   ]
  },
  {
   "cell_type": "markdown",
   "metadata": {},
   "source": [
    "<html>\n",
    "<body>\n",
    "\n",
    "<h3>HTML Heading - unlike headings above, this one made using HTML tags</h3>\n",
    "\n",
    "<p>HTML paragraph with <b>bold</b> word.</p>\n",
    "<p>I wonder if <u>underlining</u> will work?\n",
    "Not available in Jupyter markdown and not supported in newer HTML.\n",
    "Seems to work (for now) - handy!</p>\n",
    "\n",
    "</body>\n",
    "</html>"
   ]
  },
  {
   "cell_type": "code",
   "execution_count": null,
   "metadata": {
    "collapsed": true
   },
   "outputs": [],
   "source": []
  }
 ],
 "metadata": {
  "kernelspec": {
   "display_name": "Python 2",
   "language": "python",
   "name": "python2"
  },
  "language_info": {
   "codemirror_mode": {
    "name": "ipython",
    "version": 2
   },
   "file_extension": ".py",
   "mimetype": "text/x-python",
   "name": "python",
   "nbconvert_exporter": "python",
   "pygments_lexer": "ipython2",
   "version": "2.7"
  }
 },
 "nbformat": 4,
 "nbformat_minor": 2
}
