{
 "cells": [
  {
   "cell_type": "markdown",
   "metadata": {},
   "source": [
    "# Jupyter Notebook Introduction\n",
    "Jupyter notebooks are easily updatable documents that can contain: \n",
    "- formatted text\n",
    "- executable code (variety of languages supported). \n",
    "- the results of executing the code\n",
    "\n",
    "<img src=\"images/JupyterScreen.png\" width=800 align=\"left\" />"
   ]
  },
  {
   "cell_type": "markdown",
   "metadata": {},
   "source": [
    "They are widly used in data science and scientific computing. Some examples can be found here: https://github.com/jupyter/jupyter/wiki/A-gallery-of-interesting-Jupyter-Notebooks\n",
    "\n",
    "Jupyter seems well suited for automating some simple tasks and might useful for some test purposes as has the following:\n",
    "\n",
    "- Rich explanatory text can be simply added\n",
    "- Output is saved as part of the notebook.\n",
    "- It is possible to freely mix os commands with the language being used.\n",
    "- Handy for experimenting\n",
    "\n",
    "## Supported Languages\n",
    "Originally supported Julia, Python and R (hence Jupyter) but now supports far more, including Ruby.\n",
    "\n",
    "List of supported languages here (unhelpfully non alphabetical!)    \n",
    "https://github.com/jupyter/jupyter/wiki/Jupyter-kernels\n"
   ]
  },
  {
   "cell_type": "markdown",
   "metadata": {},
   "source": [
    "## Running and Editing Notebooks\n",
    "Jupyter notebook files have file extension **.ipynb** from their old name \"ipython notebook\". Note this old name is retained even when Python is not being used.\n",
    "\n",
    "#### Jupyter Lab and Jupyter Notebook\n",
    "\n",
    "The main application for running and editing Jupyter Notebooks is **Jupyter Lab**. Installation instructions here: http://jupyter.org/install.html\n",
    "\n",
    "Jupyter Lab has a predecessor called Jupyter Notebook. Jupyter Lab is gernerally better as it has more features but in some cases things may be easier with Jupyter Notebook (e.g. getting interactive widgets to work is a bit more troublesome with Jupyter Lab than Jupyter Notebook). It is possible to install both.\n",
    "\n",
    "#### VScode\n",
    "There is an extension for VScode that gives it the ability to view and run Jupyter Notebooks.      \n",
    "https://code.visualstudio.com/learn/educators/notebooks\n",
    "\n",
    "#### Try Jupyter\n",
    "There's free online version of Jupyter Lab.       \n",
    "https://jupyter.org/try\n",
    "\n",
    "#### Github\n",
    "Github has the abilty to render Jupyter Notebooks in a read-only state. If you click an .ipynb file in Github it might display but it's not always reliable and there might be a short failure error message instead."
   ]
  },
  {
   "cell_type": "markdown",
   "metadata": {},
   "source": [
    "# Using a Notebook\n",
    "Items are recorded in \"cells\" which are vertically stacked rectangular multi-line text fields within the page. Various menu items, toolbar options and keyboard shotcuts can be used to update or execute the contents of the cells."
   ]
  },
  {
   "cell_type": "markdown",
   "metadata": {},
   "source": [
    "<img src=\"images/jupyter_cells.png\" align=\"left\" />"
   ]
  },
  {
   "cell_type": "markdown",
   "metadata": {},
   "source": [
    "Two fundamental features are the Mode and Cell Type.\n",
    "\n",
    "## Notebook Modes\n",
    "A Jupyter notebook has two different modes:\n",
    "\n",
    "### 1 Edit Mode\n",
    "- This is used to enter or amend the contents of a cell.\n",
    "- Cell left border is green.\n",
    "- Edit Mode can be entered by either double-clicking the cell or pressing the Return key.\n",
    "\n",
    "### 2 Command Mode\n",
    "- In Command Mode the following tasks can be performed:\n",
    "    - execute the code in one or more code cells (shift-run or use the Cell menu or the Run Cell icon)\n",
    "    - display the rendered contents of a markdown cell\n",
    "    - add or delete cells\n",
    "    - change cell order\n",
    "    - change cell type between code and markdown\n",
    "- Cell left border is blue.\n",
    "- Command Mode can be entered by clicking outside a cell or by pressing the escape key."
   ]
  },
  {
   "cell_type": "markdown",
   "metadata": {},
   "source": [
    "## Cell Types\n",
    "There are two main cell types:\n",
    "\n",
    "- Code\n",
    "- Markdown\n",
    "\n",
    "(There are also \"Raw\" and \"Heading\" types but they are not covered here. \"Raw\" only used for particular type of format conversion and \"Heading\" is obsolete).\n",
    "\n",
    "Cell Type can be set by using:\n",
    "1. Menu at top of screen: **Cell > Cell Type**\n",
    "2. Drop-down list in the tool bar\n",
    "3. Keyboard shortcuts (**M** - markdown, **Y** - code). Must be in command mode for these to work."
   ]
  },
  {
   "cell_type": "markdown",
   "metadata": {},
   "source": [
    "### Code Cells\n",
    "- Code cells can be idenfied by having `[ ]:` to their left (with a number between the  [] after execution)\n",
    "- They can contain executable code, operating system commands, \"magic\" functions. \n",
    "- Later code cells inherit items defined ones previously executed during a session.\n",
    "- Run order can be observed from the number between the cell's square brackets, e.g. ** In [4] **\n",
    "- Whilst code is being executed, an asterisk is displayed between the cell's square brackets,** `In [*]` **\n",
    "- Code in the cell can be executed using shift-enter or from the options in the Cell menu.\n",
    "- Results output from the execution is displayed immediately below the cell. This can be text or graphics.\n",
    "- OS commands executed with `!` prefex, e.g. `!ls`\n",
    "- \"Magic\" functions can be executed. They have `%` or `%%` prefix. `%lsmagic` gives a list. Some modify the behaviour of a cell.\n",
    "- The output of an expression is automatically displayed upon exectution\n"
   ]
  },
  {
   "cell_type": "code",
   "execution_count": 6,
   "metadata": {},
   "outputs": [
    {
     "data": {
      "text/plain": [
       "6"
      ]
     },
     "execution_count": 6,
     "metadata": {},
     "output_type": "execute_result"
    }
   ],
   "source": [
    "a = 2\n",
    "b = 3\n",
    "a*b"
   ]
  },
  {
   "cell_type": "code",
   "execution_count": 7,
   "metadata": {},
   "outputs": [
    {
     "name": "stdout",
     "output_type": "stream",
     "text": [
      "Hello Human!\n"
     ]
    }
   ],
   "source": [
    "print(\"Hello Human!\")"
   ]
  },
  {
   "cell_type": "code",
   "execution_count": 1,
   "metadata": {
    "tags": []
   },
   "outputs": [],
   "source": [
    "def square(x):\n",
    "    return x*x\n",
    "\n",
    "values = [0, 1, 2, 4]"
   ]
  },
  {
   "cell_type": "code",
   "execution_count": 2,
   "metadata": {},
   "outputs": [
    {
     "name": "stdout",
     "output_type": "stream",
     "text": [
      "0\n",
      "1\n",
      "4\n",
      "16\n"
     ]
    }
   ],
   "source": [
    "#Cells inherit items from previously executed cells, so list and function from the cell above are available here.\n",
    "for v in values:\n",
    "    print(square(v))"
   ]
  },
  {
   "cell_type": "code",
   "execution_count": 9,
   "metadata": {},
   "outputs": [
    {
     "name": "stdout",
     "output_type": "stream",
     "text": [
      "/home/alan/Documents/jupyter/Getting_Started\n",
      " images   Intro.html   Intro.ipynb  'Intro(old).ipynb'\t Markdown.ipynb\n",
      "[0, 1, 2, 4]\n"
     ]
    }
   ],
   "source": [
    "#Command line\n",
    "!pwd\n",
    "!ls\n",
    "\n",
    "#Can pass any already existing Python variables as arguments (need $ prefix to extract value)\n",
    "!echo $values"
   ]
  },
  {
   "cell_type": "markdown",
   "metadata": {},
   "source": [
    "#### Example of using an os command within a Python function"
   ]
  },
  {
   "cell_type": "code",
   "execution_count": 14,
   "metadata": {},
   "outputs": [
    {
     "data": {
      "text/plain": [
       "['images', 'Intro.html', 'Intro.ipynb', 'Intro(old).ipynb', 'Markdown.ipynb']"
      ]
     },
     "execution_count": 14,
     "metadata": {},
     "output_type": "execute_result"
    }
   ],
   "source": [
    "def get_filenames(path=\"~\"):\n",
    "    filenames = !ls $path\n",
    "    return filenames\n",
    "\n",
    "get_filenames(\".\")"
   ]
  },
  {
   "cell_type": "markdown",
   "metadata": {},
   "source": [
    "#### Example of using a \"cell magic\". This one gives execution time."
   ]
  },
  {
   "cell_type": "code",
   "execution_count": 12,
   "metadata": {},
   "outputs": [
    {
     "name": "stdout",
     "output_type": "stream",
     "text": [
      "CPU times: user 126 ms, sys: 7.9 ms, total: 134 ms\n",
      "Wall time: 133 ms\n"
     ]
    }
   ],
   "source": [
    "%%time\n",
    "for x in range(1000000):\n",
    "    y = x*x"
   ]
  },
  {
   "cell_type": "markdown",
   "metadata": {},
   "source": [
    "### Markdown Cells"
   ]
  },
  {
   "cell_type": "markdown",
   "metadata": {},
   "source": [
    "Markdown cells are used to display information using standard markdown syntax.\n",
    "https://github.com/adam-p/markdown-here/wiki/Markdown-Cheatsheet\n",
    "\n",
    "In Jupyter Lab it's possible to have two views of the same notebook (File > New View for Notebook) with markdown editing in one rendered preview output in another."
   ]
  },
  {
   "cell_type": "markdown",
   "metadata": {},
   "source": [
    "## Some keyboard shortcuts\n",
    "\n",
    "Key|Mode|Result\n",
    "---|---|---\n",
    "ESC|Edit| Switch to Command Mode\n",
    "Return|Command|Switch to Edit Mode\n",
    "Shift Return|Any|Enter command mode, execute current cell, create new cell underneath\n",
    "A|Command|Add new cell above the current cell\n",
    "B|Command|Add new cell below the current cell\n",
    "DD (repeated quickly)|Command|Delete the current cell (care, but see Z below for undo)\n",
    "M|Command|Change cell type to Markdown\n",
    "Y|Command|Change cell type to Code\n",
    "Z|Command|Undo cell operation"
   ]
  }
 ],
 "metadata": {
  "kernelspec": {
   "display_name": "Python 3",
   "language": "python",
   "name": "python3"
  },
  "language_info": {
   "codemirror_mode": {
    "name": "ipython",
    "version": 3
   },
   "file_extension": ".py",
   "mimetype": "text/x-python",
   "name": "python",
   "nbconvert_exporter": "python",
   "pygments_lexer": "ipython3",
   "version": "3.8.5"
  }
 },
 "nbformat": 4,
 "nbformat_minor": 4
}
